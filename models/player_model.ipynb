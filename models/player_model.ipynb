{
 "cells": [
  {
   "cell_type": "code",
   "execution_count": null,
   "metadata": {},
   "outputs": [],
   "source": [
    "import os\n",
    "import csv\n",
    "import matplotlib.pyplot as plot\n",
    "import numpy as np\n",
    "import pandas as pd\n",
    "from collections import Counter\n",
    "from scipy.stats import poisson\n",
    "from scipy.stats import beta\n",
    "from scipy.stats import dirichlet\n",
    "%run -i utils.py\n",
    "%run -i priors.py"
   ]
  },
  {
   "cell_type": "markdown",
   "metadata": {},
   "source": [
    "### Historical training"
   ]
  },
  {
   "cell_type": "code",
   "execution_count": null,
   "metadata": {},
   "outputs": [],
   "source": [
    "y1 = pd.read_csv(\"../data/players_raw_20162017.csv\")\n",
    "y1['team_name'] = team_code(y1['team'], season=\"2016/2017\")\n",
    "\n",
    "y2 = pd.read_csv(\"../data/players_raw_20172018.csv\")\n",
    "y2['team_name'] = team_code(y2['team'], season=\"2017/2018\")\n",
    "\n",
    "y3 = pd.read_csv(\"../data/players_raw_20182019.csv\")\n",
    "y3['team_name'] = team_code(y3['team'], season=\"2018/2019\")"
   ]
  },
  {
   "cell_type": "code",
   "execution_count": null,
   "metadata": {},
   "outputs": [],
   "source": [
    "# make games played\n",
    "y1['Games'] = np.ceil(y1['total_points'] / np.maximum(1, y1['points_per_game'].values))\n",
    "y2['Games'] = np.ceil(y2['total_points'] / np.maximum(1, y2['points_per_game'].values))\n",
    "y3['Games'] = np.ceil(y3['total_points'] / np.maximum(1, y3['points_per_game'].values))"
   ]
  },
  {
   "cell_type": "code",
   "execution_count": null,
   "metadata": {},
   "outputs": [],
   "source": [
    "# minutes per game per season\n",
    "y1['MPerc'] = y1['minutes'] / (90. * 38)\n",
    "y2['MPerc'] = y2['minutes'] / (90. * 38)\n",
    "y3['MPerc'] = y3['minutes'] / (90. * 38)"
   ]
  },
  {
   "cell_type": "code",
   "execution_count": null,
   "metadata": {},
   "outputs": [],
   "source": [
    "# full name\n",
    "y1['full_name'] = (y1['first_name'] + ' ' + y1['second_name'])\n",
    "y2['full_name'] = (y2['first_name'] + ' ' + y2['second_name'])\n",
    "y3['full_name'] = (y3['first_name'] + ' ' + y3['second_name'])"
   ]
  },
  {
   "cell_type": "code",
   "execution_count": null,
   "metadata": {},
   "outputs": [],
   "source": [
    "# Season\n",
    "y1['Season'] = 1\n",
    "y2['Season'] = 2\n",
    "y3['Season'] = 3"
   ]
  },
  {
   "cell_type": "code",
   "execution_count": null,
   "metadata": {},
   "outputs": [],
   "source": [
    "# teams goals\n",
    "y1['TGoals'] = np.zeros(len(y1.index))\n",
    "for i in range(len(y1.index)):\n",
    "    y1.loc[y1.index[i], 'TGoals'] = np.sum(y1.loc[y1.index[y1['team_name'] == y1.loc[y1.index[i], 'team_name']], 'goals_scored'])\n",
    "y2['TGoals'] = np.zeros(len(y2.index))\n",
    "for i in range(len(y2.index)):\n",
    "    y2.loc[y2.index[i], 'TGoals'] = np.sum(y2.loc[y2.index[y2['team_name'] == y2.loc[y2.index[i], 'team_name']], 'goals_scored'])\n",
    "y3['TGoals'] = np.zeros(len(y3.index))\n",
    "for i in range(len(y3.index)):\n",
    "    y3.loc[y3.index[i], 'TGoals'] = np.sum(y3.loc[y3.index[y3['team_name'] == y3.loc[y3.index[i], 'team_name']], 'goals_scored'])"
   ]
  },
  {
   "cell_type": "code",
   "execution_count": null,
   "metadata": {},
   "outputs": [],
   "source": [
    "y1p = []\n",
    "y2p = []\n",
    "y3p = []\n",
    "for i in range(len(y1.index)):\n",
    "    y1p.append(np.array(['GKP', 'DEF', 'MID', 'FWD'])[int(y1.loc[y1.index[i], \"element_type\"] - 1)])\n",
    "for i in range(len(y2.index)):\n",
    "    y2p.append(np.array(['GKP', 'DEF', 'MID', 'FWD'])[int(y2.loc[y2.index[i], \"element_type\"] - 1)])\n",
    "for i in range(len(y3.index)):\n",
    "    y3p.append(np.array(['GKP', 'DEF', 'MID', 'FWD'])[int(y3.loc[y3.index[i], \"element_type\"] - 1)])\n",
    "y1['position'] = y1p\n",
    "y2['position'] = y2p\n",
    "y3['position'] = y3p"
   ]
  },
  {
   "cell_type": "code",
   "execution_count": null,
   "metadata": {},
   "outputs": [],
   "source": [
    "ID, players, teams, positions, season = player_id(np.concatenate((y2.as_matrix(), y3.as_matrix())))\n",
    "id_sel = 1100\n",
    "print(np.concatenate((y2.as_matrix(), y3.as_matrix()))[id_sel,:])\n",
    "print(ID[id_sel])\n",
    "print(np.concatenate((y2.as_matrix(), y3.as_matrix()))[np.where(ID == ID[id_sel])[0].astype(int), :])\n",
    "print(np.where(ID == ID[id_sel])[0].astype(int))"
   ]
  },
  {
   "cell_type": "code",
   "execution_count": null,
   "metadata": {},
   "outputs": [],
   "source": [
    "#y1['ID'] = ID[0:len(y1['full_name'])]\n",
    "y2['ID'] = ID[0:len(y2['full_name'])]\n",
    "y3['ID'] = ID[len(y2['full_name']):(len(y2['full_name']) + len(y3['full_name']))]"
   ]
  },
  {
   "cell_type": "code",
   "execution_count": null,
   "metadata": {},
   "outputs": [],
   "source": [
    "id_y2 = np.transpose(np.array([ID[0:len(y2['full_name'])], players[0:len(y2['full_name'])], teams[0:len(y2['full_name'])], positions[0:len(y2['full_name'])], season[0:len(y2['full_name'])]]))\n",
    "id_y3 = np.transpose(np.array([ID[len(y2['full_name']):(len(y2['full_name']) + len(y3['full_name']))], players[len(y2['full_name']):(len(y2['full_name']) + len(y3['full_name']))], teams[len(y2['full_name']):(len(y2['full_name']) + len(y3['full_name']))], positions[len(y2['full_name']):(len(y2['full_name']) + len(y3['full_name']))], season[len(y2['full_name']):(len(y2['full_name']) + len(y3['full_name']))]]))\n"
   ]
  },
  {
   "cell_type": "markdown",
   "metadata": {},
   "source": [
    "### Bayesian update of simplexs"
   ]
  },
  {
   "cell_type": "markdown",
   "metadata": {},
   "source": [
    "#### Updating functions for player simplexs"
   ]
  },
  {
   "cell_type": "code",
   "execution_count": null,
   "metadata": {},
   "outputs": [],
   "source": [
    "# find posteriors after historical data\n",
    "IDunique = np.unique(ID)\n",
    "playersunique = []\n",
    "teamsunique = []\n",
    "positionsunique = []\n",
    "seasonunique = []\n",
    "for i in range(len(IDunique)):\n",
    "    ind = np.where(IDunique[i] == ID)[0][-1]  # most recent team and position\n",
    "    inds = np.where(IDunique[i] == ID)[0]\n",
    "    playersunique.append(players[ind])\n",
    "    teamsunique.append(teams[ind])\n",
    "    positionsunique.append(positions[ind])\n",
    "    seasonunique.append(np.max(np.array(season)[inds.astype(int)]))  # most recent season id player was playing\n",
    "\n",
    "players_parameters_dict = {'ID': IDunique, 'player': playersunique, 'team': teamsunique, 'position': positionsunique, 'last_season': seasonunique,\n",
    "                          'a_goals': np.zeros(len(IDunique)), 'b_goals': np.zeros(len(IDunique)), 'c_goals': np.zeros(len(IDunique)),\n",
    "                          'a_mins': np.zeros(len(IDunique)), 'b_mins': np.zeros(len(IDunique)),\n",
    "                          'a_games': np.zeros(len(IDunique)), 'b_games': np.zeros(len(IDunique))}\n",
    "players_parameters = pd.DataFrame(data = players_parameters_dict)"
   ]
  },
  {
   "cell_type": "code",
   "execution_count": null,
   "metadata": {
    "scrolled": true
   },
   "outputs": [],
   "source": [
    "players_parameters.loc[players_parameters.index[players_parameters['team'] == 'Man City'], :]"
   ]
  },
  {
   "cell_type": "code",
   "execution_count": null,
   "metadata": {},
   "outputs": [],
   "source": [
    "# fill in priors\n",
    "for i in range(3):\n",
    "    if (i == 0):\n",
    "        for j in range(np.shape(id_y2)[0]):\n",
    "            idind = players_parameters.index[players_parameters['ID'] == y2.loc[y2.index[j], 'ID']]\n",
    "            if y2.loc[y2.index[j], 'position'] == 'GKP':\n",
    "                players_parameters.loc[idind, 'a_goals'] = ga_prior_a_g\n",
    "                players_parameters.loc[idind, 'b_goals'] = ga_prior_b_g\n",
    "                players_parameters.loc[idind, 'c_goals'] = ga_prior_c_g\n",
    "                players_parameters.loc[idind, 'a_mins'] = m_prior_a_g\n",
    "                players_parameters.loc[idind, 'b_mins'] = m_prior_b_g\n",
    "                players_parameters.loc[idind, 'a_games'] = p_prior_a_g\n",
    "                players_parameters.loc[idind, 'b_games'] = p_prior_b_g\n",
    "            if y2.loc[y2.index[j], 'position'] == 'MID':\n",
    "                players_parameters.loc[idind, 'a_goals'] = ga_prior_a_m\n",
    "                players_parameters.loc[idind, 'b_goals'] = ga_prior_b_m\n",
    "                players_parameters.loc[idind, 'c_goals'] = ga_prior_c_m\n",
    "                players_parameters.loc[idind, 'a_mins'] = m_prior_a_m\n",
    "                players_parameters.loc[idind, 'b_mins'] = m_prior_b_m\n",
    "                players_parameters.loc[idind, 'a_games'] = p_prior_a_m\n",
    "                players_parameters.loc[idind, 'b_games'] = p_prior_b_m\n",
    "            if y2.loc[y2.index[j], 'position'] == 'DEF':\n",
    "                players_parameters.loc[idind, 'a_goals'] = ga_prior_a_d\n",
    "                players_parameters.loc[idind, 'b_goals'] = ga_prior_b_d\n",
    "                players_parameters.loc[idind, 'c_goals'] = ga_prior_c_d\n",
    "                players_parameters.loc[idind, 'a_mins'] = m_prior_a_d\n",
    "                players_parameters.loc[idind, 'b_mins'] = m_prior_b_d\n",
    "                players_parameters.loc[idind, 'a_games'] = p_prior_a_d\n",
    "                players_parameters.loc[idind, 'b_games'] = p_prior_b_d\n",
    "            if y2.loc[y2.index[j], 'position'] == 'FWD':\n",
    "                players_parameters.loc[idind, 'a_goals'] = ga_prior_a_f\n",
    "                players_parameters.loc[idind, 'b_goals'] = ga_prior_b_f\n",
    "                players_parameters.loc[idind, 'c_goals'] = ga_prior_c_f\n",
    "                players_parameters.loc[idind, 'a_mins'] = m_prior_a_f\n",
    "                players_parameters.loc[idind, 'b_mins'] = m_prior_b_f\n",
    "                players_parameters.loc[idind, 'a_games'] = p_prior_a_f\n",
    "                players_parameters.loc[idind, 'b_games'] = p_prior_b_f\n",
    "    if (i == 1):\n",
    "        for j in range(np.shape(id_y3)[0]):\n",
    "            idind = players_parameters.index[players_parameters['ID'] == y3.loc[y3.index[j], 'ID']]\n",
    "            if y3.loc[y3.index[j], 'position'] == 'GKP':\n",
    "                players_parameters.loc[idind, 'a_goals'] = ga_prior_a_g\n",
    "                players_parameters.loc[idind, 'b_goals'] = ga_prior_b_g\n",
    "                players_parameters.loc[idind, 'c_goals'] = ga_prior_c_g\n",
    "                players_parameters.loc[idind, 'a_mins'] = m_prior_a_g\n",
    "                players_parameters.loc[idind, 'b_mins'] = m_prior_b_g\n",
    "                players_parameters.loc[idind, 'a_games'] = p_prior_a_g\n",
    "                players_parameters.loc[idind, 'b_games'] = p_prior_b_g\n",
    "            if y3.loc[y3.index[j], 'position'] == 'MID':\n",
    "                players_parameters.loc[idind, 'a_goals'] = ga_prior_a_m\n",
    "                players_parameters.loc[idind, 'b_goals'] = ga_prior_b_m\n",
    "                players_parameters.loc[idind, 'c_goals'] = ga_prior_c_m\n",
    "                players_parameters.loc[idind, 'a_mins'] = m_prior_a_m\n",
    "                players_parameters.loc[idind, 'b_mins'] = m_prior_b_m\n",
    "                players_parameters.loc[idind, 'a_games'] = p_prior_a_m\n",
    "                players_parameters.loc[idind, 'b_games'] = p_prior_b_m\n",
    "            if y3.loc[y3.index[j], 'position'] == 'DEF':\n",
    "                players_parameters.loc[idind, 'a_goals'] = ga_prior_a_d\n",
    "                players_parameters.loc[idind, 'b_goals'] = ga_prior_b_d\n",
    "                players_parameters.loc[idind, 'c_goals'] = ga_prior_c_d\n",
    "                players_parameters.loc[idind, 'a_mins'] = m_prior_a_d\n",
    "                players_parameters.loc[idind, 'b_mins'] = m_prior_b_d\n",
    "                players_parameters.loc[idind, 'a_games'] = p_prior_a_d\n",
    "                players_parameters.loc[idind, 'b_games'] = p_prior_b_d\n",
    "            if y3.loc[y3.index[j], 'position'] == 'FWD':\n",
    "                players_parameters.loc[idind, 'a_goals'] = ga_prior_a_f\n",
    "                players_parameters.loc[idind, 'b_goals'] = ga_prior_b_f\n",
    "                players_parameters.loc[idind, 'c_goals'] = ga_prior_c_f\n",
    "                players_parameters.loc[idind, 'a_mins'] = m_prior_a_f\n",
    "                players_parameters.loc[idind, 'b_mins'] = m_prior_b_f\n",
    "                players_parameters.loc[idind, 'a_games'] = p_prior_a_f\n",
    "                players_parameters.loc[idind, 'b_games'] = p_prior_b_f"
   ]
  },
  {
   "cell_type": "code",
   "execution_count": null,
   "metadata": {},
   "outputs": [],
   "source": [
    "players_parameters.index"
   ]
  },
  {
   "cell_type": "code",
   "execution_count": null,
   "metadata": {},
   "outputs": [],
   "source": [
    "# update with historical data - posterior\n",
    "for i in range(len(players_parameters.index)):\n",
    "    \n",
    "    # scale season importance!\n",
    "    if len(y2.index[players_parameters.loc[players_parameters.index[i], 'ID'] == y2['ID'].values]) > 0:\n",
    "        idind = y2.index[players_parameters.loc[players_parameters.index[i], 'ID'] == y2['ID'].values]\n",
    "        gms = (y2.loc[y2.index[idind], 'Games'].values[0]) * 0.3\n",
    "        goa = (y2.loc[y2.index[idind], 'goals_scored'].values[0]) * 0.3\n",
    "        mns = y2.loc[y2.index[idind], 'minutes'].values[0] * 0.3\n",
    "        assi = (y2.loc[y2.index[idind], 'assists'].values[0]) * 0.3\n",
    "        tgoa = (np.ceil(y2.loc[y2.index[idind], 'TGoals'].values[0] / (38 / y2.loc[y2.index[idind], 'Games'].values[0]))) * 0.3\n",
    "\n",
    "        post_a_goals, post_b_goals, post_c_goals = update_goals_and_assists_simplex(players_parameters.loc[players_parameters.index[i], 'a_goals'],\n",
    "                                                                                    players_parameters.loc[players_parameters.index[i], 'b_goals'],\n",
    "                                                                                    players_parameters.loc[players_parameters.index[i], 'c_goals'],\n",
    "                                                                                    goa, assi, tgoa)\n",
    "        post_a_mins, post_b_mins = update_mins_simplex(players_parameters.loc[players_parameters.index[i], 'a_mins'],\n",
    "                                                          players_parameters.loc[players_parameters.index[i], 'b_mins'],\n",
    "                                                          mns, gms)\n",
    "        post_a_played, post_b_played = update_games_played_simplex(players_parameters.loc[players_parameters.index[i], 'a_games'],\n",
    "                                                          players_parameters.loc[players_parameters.index[i], 'b_games'],\n",
    "                                                          gms, (38 * 0.3) - gms)\n",
    "\n",
    "        players_parameters.loc[players_parameters.index[i], 'a_goals'] = post_a_goals\n",
    "        players_parameters.loc[players_parameters.index[i], 'b_goals'] = post_b_goals\n",
    "        players_parameters.loc[players_parameters.index[i], 'c_goals'] = post_c_goals\n",
    "        players_parameters.loc[players_parameters.index[i], 'a_mins'] = post_a_mins\n",
    "        players_parameters.loc[players_parameters.index[i], 'b_mins'] = post_b_mins\n",
    "        players_parameters.loc[players_parameters.index[i], 'a_games'] = post_a_played\n",
    "        players_parameters.loc[players_parameters.index[i], 'b_games'] = post_b_played\n",
    "\n",
    "    if len(y3.index[players_parameters.loc[players_parameters.index[i], 'ID'] == y3['ID'].values]) > 0:\n",
    "        idind = y3.index[players_parameters.loc[players_parameters.index[i], 'ID'] == y3['ID'].values]\n",
    "        gms = (y3.loc[y3.index[idind], 'Games'].values[0]) * 0.5\n",
    "        goa = (y3.loc[y3.index[idind], 'goals_scored'].values[0]) * 0.5\n",
    "        mns = y3.loc[y3.index[idind], 'minutes'].values[0] * 0.5\n",
    "        assi = (y3.loc[y3.index[idind], 'assists'].values[0]) * 0.5\n",
    "        tgoa =  (np.ceil(y3.loc[y3.index[idind], 'TGoals'].values[0] / (38 / y3.loc[y3.index[idind], 'Games'].values[0]))) * 0.5\n",
    "\n",
    "        post_a_goals, post_b_goals, post_c_goals = update_goals_and_assists_simplex(players_parameters.loc[players_parameters.index[i], 'a_goals'],\n",
    "                                                                                    players_parameters.loc[players_parameters.index[i], 'b_goals'],\n",
    "                                                                                    players_parameters.loc[players_parameters.index[i], 'c_goals'],\n",
    "                                                                                    goa, assi, tgoa)\n",
    "        post_a_mins, post_b_mins = update_mins_simplex(players_parameters.loc[players_parameters.index[i], 'a_mins'],\n",
    "                                                          players_parameters.loc[players_parameters.index[i], 'b_mins'],\n",
    "                                                          mns, gms)\n",
    "        post_a_played, post_b_played = update_games_played_simplex(players_parameters.loc[players_parameters.index[i], 'a_games'],\n",
    "                                                          players_parameters.loc[players_parameters.index[i], 'b_games'],\n",
    "                                                          gms, (38 * 0.5) - gms)\n",
    "\n",
    "        players_parameters.loc[players_parameters.index[i], 'a_goals'] = post_a_goals\n",
    "        players_parameters.loc[players_parameters.index[i], 'b_goals'] = post_b_goals\n",
    "        players_parameters.loc[players_parameters.index[i], 'c_goals'] = post_c_goals\n",
    "        players_parameters.loc[players_parameters.index[i], 'a_mins'] = post_a_mins\n",
    "        players_parameters.loc[players_parameters.index[i], 'b_mins'] = post_b_mins\n",
    "        players_parameters.loc[players_parameters.index[i], 'a_games'] = post_a_played\n",
    "        players_parameters.loc[players_parameters.index[i], 'b_games'] = post_b_played"
   ]
  },
  {
   "cell_type": "code",
   "execution_count": null,
   "metadata": {},
   "outputs": [],
   "source": [
    "players_parameters"
   ]
  },
  {
   "cell_type": "code",
   "execution_count": null,
   "metadata": {},
   "outputs": [],
   "source": [
    "# example of new min played model (taking into account sometimes not starting a game, or prior knowledge they will!)\n",
    "# poisson and gamma to decide mins per games PLAYED\n",
    "# and bernoilli and dirichlet to decide games PLAYED\n",
    "np.random.choice([1, 0], 1, p=(np.random.dirichlet([28.9, 3.5])))[0] * np.random.poisson(np.random.gamma(2300, 1 / 30))"
   ]
  },
  {
   "cell_type": "markdown",
   "metadata": {},
   "source": [
    "Don't need mins-played parameter included in points from scoring for each team goal, since this is taken into account by dividing by ALL of teams goals in season, even when player not on pitch."
   ]
  },
  {
   "cell_type": "code",
   "execution_count": null,
   "metadata": {},
   "outputs": [],
   "source": [
    "# save parameters\n",
    "players_parameters.to_csv(\"../parameters/all_players_params.csv\", index=False)"
   ]
  }
 ],
 "metadata": {
  "kernelspec": {
   "display_name": "Python 3",
   "language": "python",
   "name": "python3"
  },
  "language_info": {
   "codemirror_mode": {
    "name": "ipython",
    "version": 3
   },
   "file_extension": ".py",
   "mimetype": "text/x-python",
   "name": "python",
   "nbconvert_exporter": "python",
   "pygments_lexer": "ipython3",
   "version": "3.5.2"
  }
 },
 "nbformat": 4,
 "nbformat_minor": 2
}
